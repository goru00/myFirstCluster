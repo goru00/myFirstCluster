{
 "cells": [
  {
   "cell_type": "code",
   "execution_count": 17,
   "metadata": {},
   "outputs": [
    {
     "data": {
      "text/plain": [
       "'\\nprint(str(redis_main.hget(Name-1,\"Hash\")))\\nprint(str(redis_s2.hget(Name,\"Hashnext\")))\\n\\nprint(redis_main.hget(Name-1, \"Hash\"))\\nprint(redis_s2.hget(Name, \"Hashnext\"))\\n'"
      ]
     },
     "execution_count": 17,
     "metadata": {},
     "output_type": "execute_result"
    }
   ],
   "source": [
    "import socket\n",
    "import pickle\n",
    "import redis\n",
    "\n",
    "redis_s2 = redis.RedisCluster(host='localhost', port=7000)\n",
    "\n",
    "client = socket.socket(socket.AF_INET, socket.SOCK_STREAM)\n",
    "client.connect((\"localhost\", 9090))\n",
    "obj = [\"ho311g\", 343334, \"jgiffg\"]\n",
    "date = pickle.dumps(obj)\n",
    "client.sendall(date)\n",
    "client.close()\n",
    "\n",
    "\n",
    "'''\n",
    "print(str(redis_main.hget(Name-1,\"Hash\")))\n",
    "print(str(redis_s2.hget(Name,\"Hashnext\")))\n",
    "\n",
    "print(redis_main.hget(Name-1, \"Hash\"))\n",
    "print(redis_s2.hget(Name, \"Hashnext\"))\n",
    "'''\n",
    "# проверка работы\n",
    "#print(str(redis_s2.hset(1,key=\"Hashnext\", value=15)))\n",
    "\n",
    "#redis2.set(111,333)"
   ]
  }
 ],
 "metadata": {
  "kernelspec": {
   "display_name": "Python 3.10.4 64-bit",
   "language": "python",
   "name": "python3"
  },
  "language_info": {
   "codemirror_mode": {
    "name": "ipython",
    "version": 3
   },
   "file_extension": ".py",
   "mimetype": "text/x-python",
   "name": "python",
   "nbconvert_exporter": "python",
   "pygments_lexer": "ipython3",
   "version": "3.10.4"
  },
  "orig_nbformat": 4,
  "vscode": {
   "interpreter": {
    "hash": "916dbcbb3f70747c44a77c7bcd40155683ae19c65e1c03b4aa3499c5328201f1"
   }
  }
 },
 "nbformat": 4,
 "nbformat_minor": 2
}
